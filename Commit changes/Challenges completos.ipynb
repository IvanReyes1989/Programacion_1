{
 "cells": [
  {
   "cell_type": "markdown",
   "metadata": {},
   "source": [
    "Desafío 1: Palíndromos\n",
    "Un palíndromo es una palabra o frase que se lee igual de adelante hacia atrás que de atrás hacia adelante, ignorando los espacios, puntuación y capitalización. El desafío es crear un programa que tome una cadena ingresada por el usuario y determine si es un palíndromo.\n"
   ]
  },
  {
   "cell_type": "code",
   "execution_count": 2,
   "metadata": {},
   "outputs": [
    {
     "name": "stdout",
     "output_type": "stream",
     "text": [
      "¡Es un palíndromo!\n"
     ]
    }
   ],
   "source": [
    "#Desafío 1: Palíndromoss\n",
    "\n",
    "def palindromo(cadena):\n",
    "    # convertir a minúsculas\n",
    "    cadena = cadena.lower()\n",
    "    \n",
    "    # Comparar la cadena original con su inversa\n",
    "    return cadena == cadena[::-1]\n",
    "\n",
    "# Solicitar entrada del usuario\n",
    "palabra = input(\"Ingresa una palabra o frase: \")\n",
    "\n",
    "# Verificar si la entrada es un palíndromo\n",
    "if palindromo(palabra):\n",
    "    print(\"¡Es un palíndromo!\")\n",
    "else:\n",
    "    print(\"No es un palíndromo.\")\n",
    "\n"
   ]
  },
  {
   "cell_type": "markdown",
   "metadata": {},
   "source": [
    "Desafío 2: Generador de Histograma\n",
    "Crear un programa que tome una lista de números y genere un histograma basado en esos números, usando asteriscos para crear las barras del histograma.\n"
   ]
  },
  {
   "cell_type": "code",
   "execution_count": 12,
   "metadata": {},
   "outputs": [
    {
     "name": "stdout",
     "output_type": "stream",
     "text": [
      "*\n",
      "**\n",
      "***\n",
      "**\n",
      "*\n"
     ]
    }
   ],
   "source": [
    "#\"Desafío 2: Generador de Histograma\"\n",
    "\n",
    "def histograma(lista_numeros):\n",
    "    for num in lista_numeros:\n",
    "        barra = '*' * num\n",
    "        print(barra)\n",
    "\n",
    "#  entrada de datos\n",
    "datos = input(\"Ingresa una lista de números separados por espacios: \")\n",
    "\n",
    "# lista de num\n",
    "lista_numeros = [int(num) for num in datos.split()]\n",
    "\n",
    "#histograma\n",
    "histograma(lista_numeros)\n",
    "\n",
    "n = int(input(\"Introduce la altura del triángulo (entero positivo): \"))\n",
    "for i in range(n):\n",
    "    for j in range(i+1):\n",
    "        print(\"*\", end=\"\")\n",
    "    print(\"\")\n",
    "\n"
   ]
  },
  {
   "cell_type": "markdown",
   "metadata": {},
   "source": [
    "Desafío 3: Administrador de contactos\n",
    "Crea un programa que permita administrar una lista de contactos. Cada contacto deberá tener un nombre, un número de teléfono y una dirección de correo electrónico. El programa deberá ofrecer las siguientes funcionalidades:\n",
    "1.\tAgregar un contacto nuevo\n",
    "2.\tVer la lista de contactos\n",
    "3.\tBuscar un contacto por nombre\n",
    "4.\tEliminar un contacto por nombre\n",
    "Usa listas y tuplas para almacenar los contactos y un diccionario para almacenar la información de cada contacto. También deberás crear distintas funciones para cada una de las funcionalidades.\n"
   ]
  },
  {
   "cell_type": "code",
   "execution_count": 18,
   "metadata": {},
   "outputs": [
    {
     "name": "stdout",
     "output_type": "stream",
     "text": [
      "Contacto Juan agregado con éxito.\n",
      "Contacto Joss agregado con éxito.\n",
      "\n",
      "Lista de Contactos:\n",
      "Nombre: Juan, Celular: 3315402210\n",
      "Nombre: Joss, Celular: 3344991100\n"
     ]
    }
   ],
   "source": [
    "# Lista para almacenar los contactos\n",
    "lista_contactos = []\n",
    "\n",
    "# Solicitar al usuario el nombre y el teléfono del contacto\n",
    "while True:\n",
    "    nombre = input(\"Ingrese el nombre del contacto (o 'salir' para finalizar): \")\n",
    "    \n",
    "    if nombre.lower() == 'salir':\n",
    "        break\n",
    "\n",
    "    Celular = input(\"Ingrese el número de teléfono del contacto: \")\n",
    "\n",
    "    # Agregar el contacto a la lista\n",
    "    nuevo_contacto = {'Nombre': nombre, 'Celular': Celular}\n",
    "    lista_contactos.append(nuevo_contacto)\n",
    "    print(f'Contacto {nombre} agregado con éxito.')\n",
    "\n",
    "# Mostrar la lista final de contactos\n",
    "print(\"\\nLista de Contactos:\")\n",
    "for contacto in lista_contactos:\n",
    "    print(f\"Nombre: {contacto['Nombre']}, Celular: {contacto['Celular']}\")\n"
   ]
  },
  {
   "cell_type": "markdown",
   "metadata": {},
   "source": [
    "Desafío 4: Implementación de Funciones map, filter, y reduce Propias\n",
    "Crea tus propias versiones de las funciones map, filter y reduce. Estas funciones deben tomar como argumentos una función y una lista (y un valor inicial en el caso de reduce) y deben retornar un iterable (puedes retornar una lista).\n"
   ]
  },
  {
   "cell_type": "code",
   "execution_count": 25,
   "metadata": {},
   "outputs": [
    {
     "name": "stdout",
     "output_type": "stream",
     "text": [
      "[1, 4, 9, 16, 25]\n"
     ]
    }
   ],
   "source": [
    "#Desafío 4: Implementación de Funciones map\n",
    "\n",
    "# Función para map\n",
    "def cuadrado(x):\n",
    "    return x ** 2\n",
    "\n",
    "#lista de números\n",
    "numeros = [1, 2, 3, 4, 5]\n",
    "\n",
    "# formula para obtener los resultados\n",
    "resultados = [cuadrado(x) for x in numeros]\n",
    "\n",
    "# Imprimir los resultados\n",
    "print(resultados)\n",
    "\n"
   ]
  },
  {
   "cell_type": "code",
   "execution_count": 28,
   "metadata": {},
   "outputs": [
    {
     "name": "stdout",
     "output_type": "stream",
     "text": [
      "[1, 4, 9, 16, 25]\n"
     ]
    }
   ],
   "source": [
    "def cuadrado(x):\n",
    "    return x ** 2\n",
    "\n",
    "# Crear una lista de números\n",
    "lista = [1, 2, 3, 4, 5]\n",
    "\n",
    "# Usar la función map para aplicar la función cuadrado a cada elemento de la lista\n",
    "resultados = map(cuadrado, lista)\n",
    "\n",
    "# Convertir los resultados a una lista\n",
    "resultados_lista = list(resultados)\n",
    "\n",
    "# Imprimir los resultados\n",
    "print(resultados_lista)\n"
   ]
  },
  {
   "cell_type": "code",
   "execution_count": 19,
   "metadata": {},
   "outputs": [
    {
     "name": "stdout",
     "output_type": "stream",
     "text": [
      "['Ana', 'Antonio']\n"
     ]
    }
   ],
   "source": [
    "#Desafío 4: Implementación de Funciones filter\n",
    "# Lista de nombres\n",
    "nombres = [\"Ana\", \"Juan\", \"María\", \"Alberto\", \"Elena\",\"Antonio\"]\n",
    "\n",
    "# Función para filtrar nombres que comienzan con 'A'\n",
    "def inicial(nombre):\n",
    "    return nombre.startswith('An')\n",
    "\n",
    "# función para filtrar\n",
    "nombres_con_a = [nombre for nombre in nombres if inicial(nombre)]\n",
    "\n",
    "# Imprimir los nombres que comienzan con 'A'\n",
    "print(nombres_con_a)\n"
   ]
  },
  {
   "cell_type": "code",
   "execution_count": 23,
   "metadata": {},
   "outputs": [
    {
     "name": "stdout",
     "output_type": "stream",
     "text": [
      "130\n"
     ]
    }
   ],
   "source": [
    "#Desafío 4: Implementación de Funciones reduce\n",
    "\n",
    "#variable x\n",
    "def cuadrado(x):\n",
    "    return x ** 2\n",
    "#variable para sumar\n",
    "def suma (x, y):\n",
    "        return x + y\n",
    "\n",
    "numeros= [1,2,3,4,10]\n",
    "#acumulador empezara en 0\n",
    "acumulador=0\n",
    "\n",
    "for num in numeros:\n",
    "     acumulador = suma(acumulador, cuadrado(num))\n",
    "print(acumulador)"
   ]
  },
  {
   "cell_type": "code",
   "execution_count": 24,
   "metadata": {},
   "outputs": [
    {
     "name": "stdout",
     "output_type": "stream",
     "text": [
      "19\n",
      "37\n"
     ]
    }
   ],
   "source": [
    "from functools import reduce\n",
    "\n",
    "def componer(*funciones):\n",
    "    return lambda x: reduce(lambda acc, f: f(acc), funciones, x)\n",
    "\n",
    "# Ejemplo de uso\n",
    "def cuadrado(x):\n",
    "    return x ** 2\n",
    "\n",
    "def duplicar(x):\n",
    "    return 2 * x\n",
    "\n",
    "def incrementar(x):\n",
    "    return x + 1\n",
    "\n",
    "# Crear funciones compuestas\n",
    "compuesta1 = componer(cuadrado, duplicar, incrementar)\n",
    "compuesta2 = componer(duplicar, cuadrado, incrementar)\n",
    "\n",
    "# Probar las funciones compuestas\n",
    "resultado1 = compuesta1(3)\n",
    "resultado2 = compuesta2(3)\n",
    "\n",
    "print(resultado1)  # Salida: 100\n",
    "print(resultado2)  # Salida: 50\n"
   ]
  },
  {
   "cell_type": "markdown",
   "metadata": {},
   "source": [
    "Desafío 5: Composición de Funciones\n",
    "Crea una función componer que tome una lista de funciones y retorne una nueva función que represente la composición de las funciones originales. La composición de funciones es una operación donde el resultado de una función se utiliza como el argumento de la siguiente.\n"
   ]
  },
  {
   "cell_type": "code",
   "execution_count": 29,
   "metadata": {},
   "outputs": [
    {
     "name": "stdout",
     "output_type": "stream",
     "text": [
      "55.0\n",
      "200.0\n"
     ]
    }
   ],
   "source": [
    "#Desafío 5: Composición de Funciones\n",
    "\n",
    "#variables\n",
    "def multi(x):\n",
    "    return x * 2\n",
    "def sum(x):\n",
    "    return x + 5\n",
    "def exponecia(x):\n",
    "    return x ** 2\n",
    "\n",
    "Valor=float(input(\"ingresa un número\"))\n",
    "\n",
    "#operaciones\n",
    "combinacion1=lambda x: sum(multi(exponecia(x)))\n",
    "combinacion2=lambda x: multi(exponecia(sum(x)))\n",
    "\n",
    "#resultados\n",
    "resultado1=combinacion1(Valor)\n",
    "resultado2=combinacion2(Valor)\n",
    "\n",
    "print(resultado1)\n",
    "print(resultado2)\n",
    "\n"
   ]
  },
  {
   "cell_type": "markdown",
   "metadata": {},
   "source": [
    "Desafío 6: Contador de Palabras\n",
    "Crea un script que lea un archivo de texto y cuente el número de ocurrencias de cada palabra en el archivo. Luego, deberá escribir estas estadísticas en un nuevo archivo.\n",
    "a)\tCopia el siguiente texto y graba un archivo.txt \n",
    "“En un universo de palabras, cada término sirve como un vórtice de significado, y la frecuencia de cada palabra puede ser tan reveladora como su presencia. Hoy, nos embarcamos en una expedición cuantitativa, donde no solo leemos texto, sino que escudriñamos las profundidades de su composición, desentrañando el peso de cada palabra en el tapiz de su narrativa.\n",
    "Este desafío es para los curiosos de corazón, aquellos que miran más allá de las frases y buscan entender el 'cómo' y el 'cuánto' del lenguaje que consumimos. ¿Alguna vez te has preguntado qué palabras dominan tus páginas favoritas, o cuál es el léxico preferido de los autores que admiras? Aquí está tu oportunidad de descubrirlo.\n",
    "Tu tarea es desarrollar un script, un contador astuto y meticuloso, capaz de recorrer la extensión de un documento, palabra por palabra, contabilizando cada aparición. Este script no es solo un programa, es un cartógrafo lingüístico, trazando la topografía de la terminología en cualquier texto dado.\n",
    "El fruto de tu esfuerzo no se perderá en la consola o será efímero en la pantalla. Tu script irá un paso más allá, inmortalizando su análisis en un nuevo archivo, un compendio de conocimiento que detalla la abundancia o la escasez de cada término. Este archivo se convertirá en el espejo numérico del original, reflejando no historias o ideas, sino la arquitectura de su expresión.\n",
    "Este es un llamado no solo a los programadores, sino también a los lingüistas, a los amantes de los libros y a los analistas de datos. ¿Estás preparado para desenterrar las estadísticas ocultas en los pliegues de los párrafos y exponer la anatomía de la escritura a través de números y listas? Enciende tu IDE, prepara tus dedos sobre el teclado, y comienza la caza de palabras.”\n"
   ]
  },
  {
   "cell_type": "code",
   "execution_count": 37,
   "metadata": {},
   "outputs": [
    {
     "name": "stdout",
     "output_type": "stream",
     "text": [
      "Archivo creado con éxito\n"
     ]
    }
   ],
   "source": [
    "#modulos para el script\n",
    "#re es un modulo de expresiones singulares\n",
    "#collections nos ayura a contar elementos\n",
    "import re\n",
    "from collections import Counter\n",
    "\n",
    "# nos ayuda a abrir el archivo challenge 6 como solo lectura \n",
    "with open('challenge 6.txt', 'r', encoding='utf-8') as archivo:\n",
    "    texto = archivo.read()\n",
    "\n",
    "# nos ayuda a leer palabras completas en minusculas\n",
    "palabras = re.findall(r'\\b\\w+\\b', texto.lower())\n",
    "\n",
    "# Cuenta la frecuencia de cada palabra\n",
    "frecuencia_palabras = Counter(palabras)\n",
    "\n",
    "# esto de aquí creara el archivo estadisticias_palabras como modificable y registrara cuantas veces se repitio esa palabra\n",
    "with open('estadisticas_palabras.txt', 'w', encoding='utf-8') as archivo_estadisticas:\n",
    "    for palabra, frecuencia in frecuencia_palabras.items():\n",
    "        archivo_estadisticas.write(f'{palabra}: {frecuencia}\\n')\n",
    "\n",
    "print(\"Archivo creado con éxito\")\n"
   ]
  },
  {
   "cell_type": "markdown",
   "metadata": {},
   "source": [
    "Desafío 7: Copia de archivos con filtrado\n",
    "Crea un script que copie un archivo a otro, pero que excluya todas las líneas que contengan una palabra prohibida especificada por el usuario.\n",
    "b)\tCopia el siguiente texto y graba un archivo.txt "
   ]
  },
  {
   "cell_type": "code",
   "execution_count": 2,
   "metadata": {},
   "outputs": [
    {
     "name": "stdout",
     "output_type": "stream",
     "text": [
      "Archivo copiado excluyendo las líneas con 'sino': archivo_copiado.txt\n"
     ]
    }
   ],
   "source": [
    "\n",
    "\n",
    "# Solicitar al usuario la palabra prohibida\n",
    "palabra_prohibida = input(\"Ingrese la palabra prohibida: \")\n",
    "\n",
    "# Archivo de entrada y salida\n",
    "archivo_entrada = 'challenge 7.txt'\n",
    "archivo_salida = 'archivo_copiado.txt'\n",
    "\n",
    "# Abrir el archivo de entrada y crear el archivo de salida\n",
    "with open(archivo_entrada, 'r', encoding='utf-8') as entrada, open(archivo_salida, 'w', encoding='utf-8') as salida:\n",
    "    # Leer cada línea del archivo de entrada\n",
    "    for linea in entrada:\n",
    "        # Verificar si la palabra prohibida está en la línea\n",
    "        if palabra_prohibida.lower() not in linea.lower():\n",
    "            # Si no está, escribir la línea en el archivo de salida\n",
    "            salida.write(linea)\n",
    "\n",
    "print(f\"Archivo copiado excluyendo las líneas con '{palabra_prohibida}': {archivo_salida}\")\n"
   ]
  },
  {
   "cell_type": "markdown",
   "metadata": {},
   "source": [
    "Desafío 8: Debugging de un Script de Ordenación\n",
    "Se te ha dado un script que supuestamente ordena una lista de números en orden ascendente, pero algo está mal y no funciona como debería. Tu tarea es depurar el script y hacer que funcione correctamente.\n"
   ]
  },
  {
   "cell_type": "code",
   "execution_count": 3,
   "metadata": {},
   "outputs": [
    {
     "name": "stdout",
     "output_type": "stream",
     "text": [
      "Sorted list (with error): [1, 1, 1, 1, 2, 2, 2, 3, 3, 3, 5]\n"
     ]
    }
   ],
   "source": [
    "def sort_list_bad(numbers):\n",
    "    for i in range(len(numbers)):\n",
    "        for j in range(i + 1, len(numbers)):\n",
    "            if numbers[i] > numbers[j]:\n",
    "                # Aquí hay un error en la lógica de intercambio\n",
    "                temp = numbers[i]\n",
    "                numbers[i] = numbers[j]  # Este debería ser numbers[j] = temp\n",
    "    return numbers\n",
    "\n",
    "# Lista de prueba\n",
    "test_list = [3, 1, 4, 1, 5, 9, 2, 6, 5, 3, 5]\n",
    "# Intenta ordenar la lista\n",
    "sorted_list = sort_list_bad(test_list)\n",
    "print(\"Sorted list (with error):\", sorted_list)\n"
   ]
  },
  {
   "cell_type": "code",
   "execution_count": 17,
   "metadata": {},
   "outputs": [
    {
     "name": "stdout",
     "output_type": "stream",
     "text": [
      "Sorted list: [1, 1, 1, 1, 2, 2, 2, 3, 3, 3, 5]\n"
     ]
    }
   ],
   "source": [
    "#corrección\n",
    "\n",
    "def sort_list(numbers):\n",
    "    for i in range(len(numbers)):\n",
    "        for j in range(i + 1, len(numbers)):\n",
    "            if numbers[i] > numbers[j]:\n",
    "              \n",
    "                temp = numbers[i]\n",
    "                numbers[i] = numbers[j]\n",
    "                #numbers [j] = temp\n",
    "    return numbers\n",
    "\n",
    "# Lista de prueba\n",
    "test_list = [3, 1, 4, 1, 5, 9, 2, 6, 5, 3, 5]\n",
    "# Intenta ordenar la lista\n",
    "sorted_list = sort_list(test_list)\n",
    "print(\"Sorted list:\", sorted_list)\n",
    "\n"
   ]
  },
  {
   "cell_type": "markdown",
   "metadata": {},
   "source": [
    "Desafío 9: Identificación y Corrección de un Error de Tipo\n",
    "En el siguiente script, se te da una función que toma una lista de strings y concatena todos los strings en una sola cadena. Sin embargo, si se le pasa una lista que contiene elementos no-string, fallará con un TypeError. Tu tarea es depurar el script y modificarlo para que funcione correctamente con listas que contienen diferentes tipos de elementos.\n"
   ]
  },
  {
   "cell_type": "code",
   "execution_count": 18,
   "metadata": {},
   "outputs": [
    {
     "name": "stdout",
     "output_type": "stream",
     "text": [
      "TypeError: can only concatenate str (not \"int\") to str\n"
     ]
    }
   ],
   "source": [
    "def concatenate_list_of_strings(string_list):\n",
    "    # Esta función fallará si encuentra un no-string en la lista\n",
    "    concatenated_string = \"\"\n",
    "    for item in string_list:\n",
    "        concatenated_string += item  # Esto provocará TypeError si item no es un string\n",
    "    return concatenated_string\n",
    "\n",
    "# Lista de prueba con diferentes tipos de elementos\n",
    "mixed_list = [\"hello\", \"world\", 123, True, \"!\", 42.0]\n",
    "\n",
    "# Intento de concatenar la lista\n",
    "try:\n",
    "    result = concatenate_list_of_strings(mixed_list)\n",
    "    print(\"Concatenated Result:\", result)\n",
    "except TypeError as e:\n",
    "    print(\"TypeError:\", e)\n"
   ]
  },
  {
   "cell_type": "code",
   "execution_count": 24,
   "metadata": {},
   "outputs": [
    {
     "name": "stdout",
     "output_type": "stream",
     "text": [
      "Concatenated Result: helloworld123True!42.0\n"
     ]
    }
   ],
   "source": [
    "#correci[on]\n",
    "def concatenate_list_of_strings(string_list):\n",
    " \n",
    "    # se agrego STR para hacer todos los item String\n",
    "    concatenated_string = \"\"\n",
    "    for item in string_list:\n",
    "        concatenated_string += str(item)\n",
    "    return concatenated_string\n",
    "\n",
    "# Lista de prueba con diferentes tipos de elementos\n",
    "mixed_list = [\"hello\", \"world\", 123, True, \"!\", 42.0]\n",
    "\n",
    "# Intento de concatenar la lista\n",
    "try:\n",
    "    result = concatenate_list_of_strings(mixed_list)\n",
    "    print(\"Concatenated Result:\", result)\n",
    "except TypeError as e:\n",
    "    print(\"TypeError:\", e)\n"
   ]
  }
 ],
 "metadata": {
  "kernelspec": {
   "display_name": "base",
   "language": "python",
   "name": "python3"
  },
  "language_info": {
   "codemirror_mode": {
    "name": "ipython",
    "version": 3
   },
   "file_extension": ".py",
   "mimetype": "text/x-python",
   "name": "python",
   "nbconvert_exporter": "python",
   "pygments_lexer": "ipython3",
   "version": "3.10.9"
  }
 },
 "nbformat": 4,
 "nbformat_minor": 2
}
